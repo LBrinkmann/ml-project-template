{
 "cells": [
  {
   "cell_type": "code",
   "execution_count": 1,
   "id": "899823e4",
   "metadata": {
    "execution": {
     "iopub.execute_input": "2022-07-11T13:45:23.171921Z",
     "iopub.status.busy": "2022-07-11T13:45:23.171524Z",
     "iopub.status.idle": "2022-07-11T13:45:23.181921Z",
     "shell.execute_reply": "2022-07-11T13:45:23.181190Z"
    },
    "papermill": {
     "duration": 0.019326,
     "end_time": "2022-07-11T13:45:23.184248",
     "exception": false,
     "start_time": "2022-07-11T13:45:23.164922",
     "status": "completed"
    },
    "tags": [
     "injected-parameters"
    ]
   },
   "outputs": [],
   "source": [
    "# Parameters\n",
    "cross_val_args = {\"n_splits\": 3, \"random_state\": 0, \"shuffle\": True}\n",
    "dataset_args = {\n",
    "    \"feature_columns\": [\"sepal_length\", \"sepal_width\", \"petal_length\", \"petal_width\"],\n",
    "    \"source\": \"https://gist.githubusercontent.com/curran/a08a1080b88344b0c8a7/raw/d546eaee765268bf2f487608c537c05e22e4b221/iris.csv\",\n",
    "    \"target_column\": \"species\",\n",
    "}\n",
    "labels = {\"features\": \"both\", \"n_estimators\": 1}\n",
    "model_args = {\n",
    "    \"max_depth\": 2,\n",
    "    \"min_samples_leaf\": 1,\n",
    "    \"n_estimators\": 1,\n",
    "    \"random_state\": 0,\n",
    "}\n",
    "output_path = \"/Users/levinbrinkmann/repros/ml-project-template/data/grid/feature_estimator/train/n_estimators_1__features_both\"\n"
   ]
  },
  {
   "cell_type": "code",
   "execution_count": 2,
   "id": "aa627c2c",
   "metadata": {
    "execution": {
     "iopub.execute_input": "2022-07-11T13:45:23.189801Z",
     "iopub.status.busy": "2022-07-11T13:45:23.189470Z",
     "iopub.status.idle": "2022-07-11T13:45:24.022370Z",
     "shell.execute_reply": "2022-07-11T13:45:24.021575Z"
    },
    "papermill": {
     "duration": 0.838447,
     "end_time": "2022-07-11T13:45:24.024854",
     "exception": false,
     "start_time": "2022-07-11T13:45:23.186407",
     "status": "completed"
    },
    "tags": []
   },
   "outputs": [],
   "source": [
    "%load_ext autoreload\n",
    "%autoreload 2\n",
    "\n",
    "import pandas as pd\n",
    "import os\n",
    "import pickle\n",
    "from sklearn.model_selection import KFold\n",
    "from sklearn.ensemble import RandomForestClassifier\n",
    "from iris.load_data import load_dataset\n",
    "from iris.utils.pandas import add_labels\n",
    "from iris.utils.io import make_dir\n",
    "\n",
    "make_dir(output_path)"
   ]
  },
  {
   "cell_type": "code",
   "execution_count": 3,
   "id": "d9102507",
   "metadata": {
    "execution": {
     "iopub.execute_input": "2022-07-11T13:45:24.030049Z",
     "iopub.status.busy": "2022-07-11T13:45:24.029625Z",
     "iopub.status.idle": "2022-07-11T13:45:24.237437Z",
     "shell.execute_reply": "2022-07-11T13:45:24.236550Z"
    },
    "papermill": {
     "duration": 0.213089,
     "end_time": "2022-07-11T13:45:24.239810",
     "exception": false,
     "start_time": "2022-07-11T13:45:24.026721",
     "status": "completed"
    },
    "tags": []
   },
   "outputs": [],
   "source": [
    "X, y = load_dataset(**dataset_args)\n",
    "cv = KFold(**cross_val_args)\n",
    "clf = RandomForestClassifier(**model_args)\n",
    "\n",
    "metrics = []\n",
    "\n",
    "# calculate cross validated performance\n",
    "for i, (train_index, test_index) in enumerate(cv.split(X, y)):\n",
    "    X_train, X_test = X[train_index], X[test_index]\n",
    "    y_train, y_test = y[train_index], y[test_index]\n",
    "    clf.fit(X_train, y_train)\n",
    "    in_acc = clf.score(X_train, y_train)\n",
    "    out_acc = clf.score(X_test, y_test)\n",
    "    metrics.append(dict(cv=i, sample='in-sample', metric='accuracy', value=in_acc))\n",
    "    metrics.append(dict(cv=i, sample='out-of-sample', metric='accuracy', value=out_acc))\n",
    "\n",
    "# fit model on full dataset\n",
    "clf.fit(X, y)\n",
    "acc = clf.score(X, y)\n",
    "metrics.append(dict(cv=None, sample='in-sample', metric='accuracy', value=acc))\n",
    "\n",
    "# save metrics\n",
    "metrics_df = pd.DataFrame.from_records(metrics)\n",
    "metrics_df = add_labels(metrics_df, labels=labels)\n",
    "metrics_df.to_parquet(os.path.join(output_path, 'metrics.parquet'))\n",
    "\n",
    "# save model\n",
    "model_filename = os.path.join(output_path, 'model.sav')\n",
    "pickle.dump(clf, open(model_filename, 'wb'))"
   ]
  }
 ],
 "metadata": {
  "kernelspec": {
   "display_name": "Python 3.9.10 ('.venv': venv)",
   "language": "python",
   "name": "python3"
  },
  "language_info": {
   "codemirror_mode": {
    "name": "ipython",
    "version": 3
   },
   "file_extension": ".py",
   "mimetype": "text/x-python",
   "name": "python",
   "nbconvert_exporter": "python",
   "pygments_lexer": "ipython3",
   "version": "3.9.10"
  },
  "papermill": {
   "default_parameters": {},
   "duration": 2.778284,
   "end_time": "2022-07-11T13:45:24.564090",
   "environment_variables": {},
   "exception": null,
   "input_path": "notebooks/train_iris.ipynb",
   "output_path": "data/grid/feature_estimator/train/n_estimators_1__features_both/train_iris.ipynb",
   "parameters": {
    "cross_val_args": {
     "n_splits": 3,
     "random_state": 0,
     "shuffle": true
    },
    "dataset_args": {
     "feature_columns": [
      "sepal_length",
      "sepal_width",
      "petal_length",
      "petal_width"
     ],
     "source": "https://gist.githubusercontent.com/curran/a08a1080b88344b0c8a7/raw/d546eaee765268bf2f487608c537c05e22e4b221/iris.csv",
     "target_column": "species"
    },
    "labels": {
     "features": "both",
     "n_estimators": 1
    },
    "model_args": {
     "max_depth": 2,
     "min_samples_leaf": 1,
     "n_estimators": 1,
     "random_state": 0
    },
    "output_path": "/Users/levinbrinkmann/repros/ml-project-template/data/grid/feature_estimator/train/n_estimators_1__features_both"
   },
   "start_time": "2022-07-11T13:45:21.785806",
   "version": "2.3.4"
  },
  "vscode": {
   "interpreter": {
    "hash": "3e19d150cca7ffa2901b717692dfe075f39ee3509fce2707d8363881e0f15c87"
   }
  }
 },
 "nbformat": 4,
 "nbformat_minor": 5
}
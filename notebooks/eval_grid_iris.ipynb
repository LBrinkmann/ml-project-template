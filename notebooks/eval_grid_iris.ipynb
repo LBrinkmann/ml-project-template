{
 "cells": [
  {
   "cell_type": "code",
   "execution_count": 3,
   "metadata": {},
   "outputs": [
    {
     "name": "stdout",
     "output_type": "stream",
     "text": [
      "The autoreload extension is already loaded. To reload it, use:\n",
      "  %reload_ext autoreload\n"
     ]
    }
   ],
   "source": [
    "%load_ext autoreload\n",
    "%autoreload 2\n",
    "\n",
    "import pandas as pd\n",
    "import seaborn as sns\n",
    "import os\n",
    "\n",
    "run = 'feature_estimator'\n",
    "\n",
    "folder = f'../data/grid/{run}'\n",
    "\n",
    "metrics_folder = os.path.join(folder, 'metrics')\n",
    "merge_file = os.path.join(folder, 'metrics.parquet')"
   ]
  },
  {
   "cell_type": "code",
   "execution_count": 4,
   "metadata": {},
   "outputs": [],
   "source": [
    "if not os.path.isfile(merge_file):\n",
    "    dfs = [pd.read_parquet(os.path.join(metrics_folder, file)) for file in os.listdir(metrics_folder)]\n",
    "    df = pd.concat(dfs)\n",
    "    df.to_parquet(merge_file)\n",
    "else:\n",
    "    df = pd.read_parquet(merge_file)"
   ]
  },
  {
   "cell_type": "code",
   "execution_count": 5,
   "metadata": {},
   "outputs": [
    {
     "name": "stdout",
     "output_type": "stream",
     "text": [
      "<class 'pandas.core.frame.DataFrame'>\n",
      "Int64Index: 63 entries, 0 to 6\n",
      "Data columns (total 6 columns):\n",
      " #   Column        Non-Null Count  Dtype  \n",
      "---  ------        --------------  -----  \n",
      " 0   features      63 non-null     object \n",
      " 1   n_estimators  63 non-null     int64  \n",
      " 2   cv            54 non-null     float64\n",
      " 3   sample        63 non-null     object \n",
      " 4   metric        63 non-null     object \n",
      " 5   value         63 non-null     float64\n",
      "dtypes: float64(2), int64(1), object(3)\n",
      "memory usage: 3.4+ KB\n"
     ]
    }
   ],
   "source": [
    "df.info()"
   ]
  },
  {
   "cell_type": "code",
   "execution_count": 6,
   "metadata": {},
   "outputs": [
    {
     "data": {
      "image/png": "[encoded data removed]",
      "text/plain": [
       "<Figure size 808.75x360 with 2 Axes>"
      ]
     },
     "metadata": {
      "needs_background": "light"
     },
     "output_type": "display_data"
    }
   ],
   "source": [
    "fg = sns.catplot(data=df, y='value', x='n_estimators', hue='features', col='sample', kind='bar')\n",
    "fg.savefig(f'plots/iris_{run}_accuracy.png')\n"
   ]
  }
 ],
 "metadata": {
  "kernelspec": {
   "display_name": "Python 3.9.10 ('.venv': venv)",
   "language": "python",
   "name": "python3"
  },
  "language_info": {
   "codemirror_mode": {
    "name": "ipython",
    "version": 3
   },
   "file_extension": ".py",
   "mimetype": "text/x-python",
   "name": "python",
   "nbconvert_exporter": "python",
   "pygments_lexer": "ipython3",
   "version": "3.9.10"
  },
  "orig_nbformat": 4,
  "vscode": {
   "interpreter": {
    "hash": "3e19d150cca7ffa2901b717692dfe075f39ee3509fce2707d8363881e0f15c87"
   }
  }
 },
 "nbformat": 4,
 "nbformat_minor": 2
}
